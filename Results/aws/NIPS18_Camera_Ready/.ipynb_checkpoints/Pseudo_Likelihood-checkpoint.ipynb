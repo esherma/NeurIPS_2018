{
 "cells": [
  {
   "cell_type": "code",
   "execution_count": 2,
   "metadata": {},
   "outputs": [],
   "source": [
    "from networkx.generators.random_graphs import random_regular_graph\n",
    "import networkx as nx\n",
    "import numpy as np\n",
    "from scipy.special import expit\n",
    "from scipy.optimize import minimize\n",
    "from Unit import unit\n",
    "from sklearn.linear_model import LogisticRegression\n",
    "import pickle\n",
    "import copy"
   ]
  },
  {
   "cell_type": "code",
   "execution_count": 3,
   "metadata": {},
   "outputs": [],
   "source": [
    "with open('nodeList.pkl', 'rb') as fname:\n",
    "    nodeList = pickle.load(fname)\n",
    "with open('graph.pkl', 'rb') as fname:\n",
    "    graph = pickle.load(fname)"
   ]
  },
  {
   "cell_type": "code",
   "execution_count": 4,
   "metadata": {},
   "outputs": [],
   "source": [
    "As = np.zeros(len(nodeList))\n",
    "Cs = np.zeros((len(nodeList), 3))\n",
    "Ms = np.zeros(len(nodeList))\n",
    "Ys = np.zeros(len(nodeList))\n",
    "\n",
    "for node in nodeList:\n",
    "    As[node] = nodeList[node].A\n",
    "    Cs[node] = nodeList[node].C\n",
    "    Ms[node] = nodeList[node].M\n",
    "    Ys[node] = nodeList[node].Y\n",
    "    \n",
    "clfA = LogisticRegression()\n",
    "clfA.fit(Cs, As)\n",
    "tauA = {'intcp': clfA.intercept_[0], 'C0': clfA.coef_[0][0], 'C1': clfA.coef_[0][1], 'C2': clfA.coef_[0][2]}\n",
    "\n",
    "cov = np.concatenate((Cs, np.reshape(As, (As.shape[0], 1)), np.reshape(Ms, (Ms.shape[0], 1))), axis=1)\n",
    "clfY = LogisticRegression()\n",
    "clfY.fit(cov, Ys)\n",
    "tauY = {'intcp': clfY.intercept_[0], 'C0': clfY.coef_[0][0], 'C1': clfY.coef_[0][1], 'C2': clfY.coef_[0][2],\n",
    "         'A': clfY.coef_[0][3], 'M': clfY.coef_[0][4]}"
   ]
  },
  {
   "cell_type": "code",
   "execution_count": 5,
   "metadata": {},
   "outputs": [],
   "source": [
    "tauM = np.random.rand(7)"
   ]
  },
  {
   "cell_type": "code",
   "execution_count": 6,
   "metadata": {},
   "outputs": [],
   "source": [
    "def pseudoLikelihoodM(tauM, nodeList):\n",
    "    total = 0\n",
    "    for i in nodeList:\n",
    "        sumM = tauM[0] + (tauM[1] * nodeList[i].C[0]) + (tauM[2] * nodeList[i].C[1])\n",
    "        sumM += (tauM[3] * nodeList[i].C[2]) + (tauM[4] * nodeList[i].A)\n",
    "\n",
    "        for nbor in nodeList[i].adj:\n",
    "            sumM += (tauM[5] * nodeList[nbor].A) + (tauM[6] * nodeList[nbor].M)\n",
    "        \n",
    "        if nodeList[i].M == 1:\n",
    "            total += np.log(expit(sumM))\n",
    "        else:\n",
    "            total += np.log(1 - expit(sumM))\n",
    "    \n",
    "    return (-1 * total)"
   ]
  },
  {
   "cell_type": "code",
   "execution_count": 7,
   "metadata": {},
   "outputs": [],
   "source": [
    "resultM = minimize(pseudoLikelihoodM, tauM, (nodeList))"
   ]
  },
  {
   "cell_type": "code",
   "execution_count": null,
   "metadata": {},
   "outputs": [],
   "source": []
  }
 ],
 "metadata": {
  "kernelspec": {
   "display_name": "Python 3",
   "language": "python",
   "name": "python3"
  },
  "language_info": {
   "codemirror_mode": {
    "name": "ipython",
    "version": 3
   },
   "file_extension": ".py",
   "mimetype": "text/x-python",
   "name": "python",
   "nbconvert_exporter": "python",
   "pygments_lexer": "ipython3",
   "version": "3.6.4"
  }
 },
 "nbformat": 4,
 "nbformat_minor": 2
}
