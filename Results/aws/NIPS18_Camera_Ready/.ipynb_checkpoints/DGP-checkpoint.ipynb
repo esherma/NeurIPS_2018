{
 "cells": [
  {
   "cell_type": "code",
   "execution_count": 1,
   "metadata": {},
   "outputs": [],
   "source": [
    "from networkx.generators.random_graphs import random_regular_graph\n",
    "import matplotlib.pyplot as plt\n",
    "import networkx as nx\n",
    "import numpy as np\n",
    "from scipy.special import expit\n",
    "from Unit import unit\n",
    "import pickle"
   ]
  },
  {
   "cell_type": "code",
   "execution_count": 2,
   "metadata": {},
   "outputs": [],
   "source": [
    "graph = random_regular_graph(4, 1000, seed=12345)\n",
    "nodeList = {}"
   ]
  },
  {
   "cell_type": "code",
   "execution_count": 3,
   "metadata": {},
   "outputs": [],
   "source": [
    "Cscale = [[1.5, 3], [6, 2], [.8, .8]]\n",
    "Uscale = [[2.3, 1.1], [.9, 1.1], [2, 2]]\n",
    "tauA = {'intcp': -1, 'C0': .5, 'C1': .2, 'C2': .25, 'U0': .3, 'U1': -.2, 'U2': .55}\n",
    "tauM = {'intcp': -1, 'C0': -.3, 'C1': .4, 'C2': .1, 'A': -1, 'nborA': -.5, 'nborM': 1.5}\n",
    "tauY = {'intcp': -.3, 'M': 6, 'C0': -.2, 'C1': .2, 'C2': -.05, 'U0': .1, \n",
    "        'U1': -.12, 'U2': .4}"
   ]
  },
  {
   "cell_type": "code",
   "execution_count": 4,
   "metadata": {},
   "outputs": [],
   "source": [
    "for node in graph.adj:\n",
    "    nodeList[node] = unit(np.zeros(3), np.zeros(3), graph.adj[node])\n",
    "    for i in range(len(Cscale)):\n",
    "        nodeList[node].C[i] = np.random.beta(Cscale[i][0], Cscale[i][1])\n",
    "        nodeList[node].U[i] = np.random.beta(Uscale[i][0], Uscale[i][1])\n",
    "    sumA = tauA['intcp'] + (tauA['C0'] * nodeList[node].C[0]) + (tauA['C1'] * nodeList[node].C[1])\n",
    "    sumA += (tauA['C2'] * nodeList[node].C[2]) + (tauA['U0'] * nodeList[node].U[0]) + (tauA['U1'] * nodeList[node].U[1])\n",
    "    sumA += (tauA['U2'] * nodeList[node].U[2])\n",
    "    nodeList[node].A = np.random.binomial(1, expit(sumA))"
   ]
  },
  {
   "cell_type": "code",
   "execution_count": 5,
   "metadata": {},
   "outputs": [],
   "source": [
    "def Gibbs(numIter, M, tauM, nodeList):\n",
    "    for k in range(1, numIter+1):\n",
    "        for i in range(len(nodeList)):\n",
    "            sumM = 0\n",
    "\n",
    "            sumM += tauM['intcp'] + (tauM['C0'] * nodeList[i].C[0]) + (tauM['C1'] * nodeList[i].C[1])\n",
    "            sumM += (tauM['C2'] * nodeList[i].C[2]) + (tauM['A'] * nodeList[i].A)\n",
    "\n",
    "            for nbor in nodeList[i].adj:\n",
    "                sumM += (tauM['nborA'] * nodeList[nbor].A) + (tauM['nborM'] * M[k-1, nbor])\n",
    "\n",
    "            Mi = np.random.binomial(1, expit(sumM))\n",
    "            \n",
    "            M[k,i] = Mi\n",
    "        \n",
    "    return M"
   ]
  },
  {
   "cell_type": "code",
   "execution_count": 6,
   "metadata": {
    "scrolled": true
   },
   "outputs": [
    {
     "name": "stdout",
     "output_type": "stream",
     "text": [
      "CPU times: user 13.7 s, sys: 31.2 ms, total: 13.7 s\n",
      "Wall time: 13.7 s\n"
     ]
    }
   ],
   "source": [
    "%%time\n",
    "M = np.random.binomial(1, .5, (1001, len(nodeList))) #Markov chain for M's\n",
    "M = Gibbs(1000, M, tauM, nodeList)\n",
    "M = M[1000]"
   ]
  },
  {
   "cell_type": "code",
   "execution_count": 7,
   "metadata": {},
   "outputs": [],
   "source": [
    "for node in nodeList:\n",
    "    nodeList[node].M = M[node]\n",
    "    sumY = tauY['intcp'] + (tauY['M'] * nodeList[node].M) + (tauY['C0'] * nodeList[node].C[0])\n",
    "    sumY += (tauY['C1'] * nodeList[node].C[1]) + (tauY['C2'] * nodeList[node].C[2]) + (tauY['U0'] * nodeList[node].U[0])\n",
    "    sumY += (tauY['U2'] * nodeList[node].U[1]) + (tauY['U2'] * nodeList[node].U[2])\n",
    "    nodeList[node].Y = np.random.binomial(1, expit(sumY))"
   ]
  },
  {
   "cell_type": "code",
   "execution_count": 8,
   "metadata": {},
   "outputs": [
    {
     "name": "stdout",
     "output_type": "stream",
     "text": [
      "0.629\n"
     ]
    }
   ],
   "source": [
    "Ys = []\n",
    "for node in nodeList:\n",
    "    Ys.append(nodeList[node].Y)\n",
    "print(np.mean(Ys))"
   ]
  },
  {
   "cell_type": "code",
   "execution_count": 8,
   "metadata": {},
   "outputs": [],
   "source": [
    "with open('nodeList.pkl', 'wb') as fname:\n",
    "    pickle.dump(nodeList, fname)\n",
    "with open('graph.pkl', 'wb') as fname:\n",
    "    pickle.dump(graph, fname)"
   ]
  },
  {
   "cell_type": "code",
   "execution_count": null,
   "metadata": {},
   "outputs": [],
   "source": []
  }
 ],
 "metadata": {
  "kernelspec": {
   "display_name": "Python 3",
   "language": "python",
   "name": "python3"
  },
  "language_info": {
   "codemirror_mode": {
    "name": "ipython",
    "version": 3
   },
   "file_extension": ".py",
   "mimetype": "text/x-python",
   "name": "python",
   "nbconvert_exporter": "python",
   "pygments_lexer": "ipython3",
   "version": "3.6.4"
  }
 },
 "nbformat": 4,
 "nbformat_minor": 2
}
