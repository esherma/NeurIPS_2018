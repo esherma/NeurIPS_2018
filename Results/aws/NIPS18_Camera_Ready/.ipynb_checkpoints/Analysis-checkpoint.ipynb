{
 "cells": [
  {
   "cell_type": "code",
   "execution_count": 10,
   "metadata": {},
   "outputs": [],
   "source": [
    "import pickle\n",
    "import numpy as np\n",
    "import matplotlib.pyplot as plt"
   ]
  },
  {
   "cell_type": "code",
   "execution_count": 37,
   "metadata": {},
   "outputs": [],
   "source": [
    "with open('./2000_3/groundTruthDirectEffect2000_3.pkl', 'rb') as fname:\n",
    "    GTDE = np.array(pickle.load(fname))"
   ]
  },
  {
   "cell_type": "code",
   "execution_count": 38,
   "metadata": {},
   "outputs": [],
   "source": [
    "with open('./2000_3/groundTruthSpilloverEffect2000_3.pkl', 'rb') as fname:\n",
    "    GTSE = np.array(pickle.load(fname))"
   ]
  },
  {
   "cell_type": "code",
   "execution_count": 13,
   "metadata": {},
   "outputs": [],
   "source": [
    "# np.save('./2000_3/CodingDE.npy', CodingDE)\n",
    "# np.save('./2000_3/PseduoDE.npy', PseudoDE)\n",
    "# np.save('./2000_3/CodingSE.npy', CodingSE)\n",
    "# np.save('./2000_3/PseudoSE.npy', PseudoSE)\n",
    "\n",
    "# np.save('./1000_3/CodingDE.npy', CodingDE)\n",
    "# np.save('./1000_3/PseduoDE.npy', PseudoDE)\n",
    "# np.save('./1000_3/CodingSE.npy', CodingSE)\n",
    "# np.save('./1000_3/PseudoSE.npy', PseudoSE)\n",
    "\n",
    "# np.save('./800_3/CodingDE.npy', CodingDE)\n",
    "# np.save('./800_3/PseduoDE.npy', PseudoDE)\n",
    "# np.save('./800_3/CodingSE.npy', CodingSE)\n",
    "# np.save('./800_3/PseudoSE.npy', PseudoSE)\n",
    "\n",
    "# np.save('./400_3/CodingDE.npy', CodingDE)\n",
    "# np.save('./400_3/PseduoDE.npy', PseudoDE)\n",
    "# np.save('./400_3/CodingSE.npy', CodingSE)\n",
    "# np.save('./400_3/PseudoSE.npy', PseudoSE)"
   ]
  },
  {
   "cell_type": "code",
   "execution_count": 39,
   "metadata": {},
   "outputs": [],
   "source": [
    "CodingDE = np.load('./2000_3/CodingDE.npy') - np.mean(GTDE)\n",
    "PseudoDE = np.load('./2000_3/PseduoDE.npy') - np.mean(GTDE)\n",
    "CodingSE = np.load('./2000_3/CodingSE.npy') - np.mean(GTSE)\n",
    "PseudoSE = np.load('./2000_3/PseudoSE.npy') - np.mean(GTSE)"
   ]
  },
  {
   "cell_type": "code",
   "execution_count": 40,
   "metadata": {},
   "outputs": [],
   "source": [
    "meanCodeDE = np.mean(CodingDE)\n",
    "meanPseudoDE = np.mean(PseudoDE)\n",
    "meanCodeSE = np.mean(CodingSE)\n",
    "meanPseudoSE = np.mean(PseudoSE)"
   ]
  },
  {
   "cell_type": "code",
   "execution_count": 7,
   "metadata": {},
   "outputs": [],
   "source": [
    "print(np.mean(CodingDE2000), np.std(CodingDE2000))\n",
    "print(np.mean(PseudoDE2000), np.std(PseudoDE2000))\n",
    "print(np.mean(CodingSE2000), np.std(CodingSE2000))\n",
    "print(np.mean(PseudoSE2000), np.std(PseudoSE2000))"
   ]
  },
  {
   "cell_type": "code",
   "execution_count": 55,
   "metadata": {},
   "outputs": [
    {
     "data": {
      "image/png": "[encoded data removed]",
      "text/plain": [
       "<matplotlib.figure.Figure at 0x7f6848797320>"
      ]
     },
     "metadata": {},
     "output_type": "display_data"
    }
   ],
   "source": [
    "plt.figure()\n",
    "data = [CodingDE400, PseudoDE400]\n",
    "plt.boxplot(data)\n",
    "plt.xticks([1, 2], ['Coding', 'Pseudo'])\n",
    "plt.title('Direct Effects in a Network of Size 400')\n",
    "plt.show()"
   ]
  },
  {
   "cell_type": "code",
   "execution_count": 56,
   "metadata": {},
   "outputs": [
    {
     "data": {
      "image/png": "[encoded data removed]",
      "text/plain": [
       "<matplotlib.figure.Figure at 0x7f6848b46588>"
      ]
     },
     "metadata": {},
     "output_type": "display_data"
    }
   ],
   "source": [
    "plt.figure()\n",
    "data = [CodingSE400, PseudoSE400]\n",
    "plt.boxplot(data)\n",
    "plt.xticks([1, 2], ['Coding', 'Pseudo'])\n",
    "plt.title('Spillover Effects in a Network of Size 400')\n",
    "plt.show()"
   ]
  },
  {
   "cell_type": "code",
   "execution_count": 41,
   "metadata": {},
   "outputs": [],
   "source": [
    "CodingDE = CodingDE - meanCodeDE\n",
    "PseudoDE = PseudoDE - meanPseudoDE\n",
    "CodingSE = CodingSE - meanCodeSE\n",
    "PseudoSE = PseudoSE - meanPseudoSE"
   ]
  },
  {
   "cell_type": "code",
   "execution_count": 42,
   "metadata": {},
   "outputs": [],
   "source": [
    "CodingDE = np.sort(CodingDE)\n",
    "PseudoDE = np.sort(PseudoDE)\n",
    "CodingSE = np.sort(CodingSE)\n",
    "PseudoSE = np.sort(PseudoSE)"
   ]
  },
  {
   "cell_type": "code",
   "execution_count": 43,
   "metadata": {},
   "outputs": [
    {
     "name": "stdout",
     "output_type": "stream",
     "text": [
      "-0.05909412108118561 0.0998336448245555\n",
      "-0.0575984866844127 0.06343255339633619\n",
      "-0.027853623984284346 0.059854275766269505\n",
      "-0.0112338975163154 0.045726297721139425\n"
     ]
    }
   ],
   "source": [
    "print(meanCodeDE + CodingDE[24], meanCodeDE + CodingDE[974])\n",
    "print(meanPseudoDE + PseudoDE[24], meanPseudoDE + PseudoDE[974])\n",
    "print(meanCodeSE + CodingSE[24], meanCodeSE + CodingSE[974])\n",
    "print(meanPseudoSE + PseudoSE[24], meanPseudoSE + PseudoSE[974])"
   ]
  },
  {
   "cell_type": "code",
   "execution_count": null,
   "metadata": {},
   "outputs": [],
   "source": []
  }
 ],
 "metadata": {
  "kernelspec": {
   "display_name": "Python 3",
   "language": "python",
   "name": "python3"
  },
  "language_info": {
   "codemirror_mode": {
    "name": "ipython",
    "version": 3
   },
   "file_extension": ".py",
   "mimetype": "text/x-python",
   "name": "python",
   "nbconvert_exporter": "python",
   "pygments_lexer": "ipython3",
   "version": "3.6.4"
  }
 },
 "nbformat": 4,
 "nbformat_minor": 2
}
