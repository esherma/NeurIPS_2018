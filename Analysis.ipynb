{
 "cells": [
  {
   "cell_type": "code",
   "execution_count": 1,
   "metadata": {},
   "outputs": [],
   "source": [
    "import pickle\n",
    "import numpy as np\n",
    "import matplotlib.pyplot as plt"
   ]
  },
  {
   "cell_type": "code",
   "execution_count": 2,
   "metadata": {},
   "outputs": [],
   "source": [
    "with open('./aws/NIPS18_Camera_Ready/400_3/groundTruth400_3.pkl', 'rb') as fname:\n",
    "    GT = pickle.load(fname)"
   ]
  },
  {
   "cell_type": "code",
   "execution_count": 3,
   "metadata": {},
   "outputs": [
    {
     "data": {
      "text/plain": [
       "-0.45469999999999977"
      ]
     },
     "execution_count": 3,
     "metadata": {},
     "output_type": "execute_result"
    }
   ],
   "source": [
    "GT"
   ]
  },
  {
   "cell_type": "code",
   "execution_count": 4,
   "metadata": {},
   "outputs": [],
   "source": [
    "with open('./aws/NIPS18_Camera_Ready/400_3/Effects400_3.pkl', 'rb') as fname:\n",
    "    Effects = np.array(pickle.load(fname))"
   ]
  },
  {
   "cell_type": "code",
   "execution_count": 5,
   "metadata": {},
   "outputs": [
    {
     "data": {
      "text/plain": [
       "array([[-0.4096679 , -0.46959584],\n",
       "       [-0.53009186, -0.51153209],\n",
       "       [-0.44460348, -0.45374414],\n",
       "       ...,\n",
       "       [-0.41211076, -0.43798714],\n",
       "       [-0.44927575, -0.44645712],\n",
       "       [-0.41358471, -0.43136138]])"
      ]
     },
     "execution_count": 5,
     "metadata": {},
     "output_type": "execute_result"
    }
   ],
   "source": [
    "Effects"
   ]
  },
  {
   "cell_type": "code",
   "execution_count": 6,
   "metadata": {},
   "outputs": [],
   "source": [
    "Coding = Effects[:,0] - np.mean(GT)\n",
    "Pseudo = Effects[:,1] - np.mean(GT)"
   ]
  },
  {
   "cell_type": "code",
   "execution_count": 8,
   "metadata": {},
   "outputs": [
    {
     "name": "stdout",
     "output_type": "stream",
     "text": [
      "-2.3114119047371596e-06 0.05973542069668277 -0.0055146843586734474 0.05185571510254193\n"
     ]
    }
   ],
   "source": [
    "meanCoding = np.mean(Coding)\n",
    "stdCoding = np.std(Coding)\n",
    "meanPseudo = np.mean(Pseudo)\n",
    "stdPseudo = np.std(Pseudo)\n",
    "print(meanCoding, stdCoding, meanPseudo, stdPseudo)"
   ]
  },
  {
   "cell_type": "code",
   "execution_count": 8,
   "metadata": {},
   "outputs": [
    {
     "data": {
      "image/png": "[encoded data removed]",
      "text/plain": [
       "<matplotlib.figure.Figure at 0x7f3e946677b8>"
      ]
     },
     "metadata": {},
     "output_type": "display_data"
    }
   ],
   "source": [
    "plt.figure()\n",
    "data = [Coding, Pseudo]\n",
    "plt.boxplot(data)\n",
    "plt.xticks([1, 2], ['Coding', 'Pseudo'])\n",
    "plt.title('Average Network Effects - 400 Units')\n",
    "plt.show()"
   ]
  },
  {
   "cell_type": "code",
   "execution_count": 9,
   "metadata": {},
   "outputs": [],
   "source": [
    "CodingQuantiles = Coding - meanCoding\n",
    "PseudoQuantiles = Pseudo - meanPseudo"
   ]
  },
  {
   "cell_type": "code",
   "execution_count": 10,
   "metadata": {},
   "outputs": [],
   "source": [
    "CodingQuantiles = np.sort(CodingQuantiles)\n",
    "PseudoQuantiles = np.sort(PseudoQuantiles)"
   ]
  },
  {
   "cell_type": "code",
   "execution_count": 11,
   "metadata": {},
   "outputs": [
    {
     "name": "stdout",
     "output_type": "stream",
     "text": [
      "-0.15725456474268384 0.10295816309517158\n",
      "-0.13289707962004427 0.08047849941998086\n"
     ]
    }
   ],
   "source": [
    "print(meanCoding + CodingQuantiles[24], meanCoding + CodingQuantiles[974])\n",
    "print(meanPseudo + PseudoQuantiles[24], meanPseudo + PseudoQuantiles[974])"
   ]
  },
  {
   "cell_type": "code",
   "execution_count": null,
   "metadata": {},
   "outputs": [],
   "source": []
  }
 ],
 "metadata": {
  "kernelspec": {
   "display_name": "Python 3",
   "language": "python",
   "name": "python3"
  },
  "language_info": {
   "codemirror_mode": {
    "name": "ipython",
    "version": 3
   },
   "file_extension": ".py",
   "mimetype": "text/x-python",
   "name": "python",
   "nbconvert_exporter": "python",
   "pygments_lexer": "ipython3",
   "version": "3.6.4"
  }
 },
 "nbformat": 4,
 "nbformat_minor": 2
}
