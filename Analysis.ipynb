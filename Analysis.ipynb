{
 "cells": [
  {
   "cell_type": "code",
   "execution_count": 1,
   "metadata": {},
   "outputs": [],
   "source": [
    "import pickle\n",
    "import numpy as np\n",
    "import matplotlib.pyplot as plt"
   ]
  },
  {
   "cell_type": "code",
   "execution_count": 2,
   "metadata": {},
   "outputs": [],
   "source": [
    "#Load ground truth value for the effect\n",
    "with open('./aws/NIPS18_Camera_Ready/400_3/groundTruth400_3.pkl', 'rb') as fname:\n",
    "    GT = pickle.load(fname)"
   ]
  },
  {
   "cell_type": "code",
   "execution_count": 4,
   "metadata": {},
   "outputs": [],
   "source": [
    "#Load estimated effects\n",
    "with open('./aws/NIPS18_Camera_Ready/400_3/Effects400_3.pkl', 'rb') as fname:\n",
    "    Effects = np.array(pickle.load(fname))"
   ]
  },
  {
   "cell_type": "code",
   "execution_count": 6,
   "metadata": {},
   "outputs": [],
   "source": [
    "#Get bias of each effect estimate\n",
    "Coding = Effects[:,0] - np.mean(GT)\n",
    "Pseudo = Effects[:,1] - np.mean(GT)"
   ]
  },
  {
   "cell_type": "code",
   "execution_count": 8,
   "metadata": {},
   "outputs": [
    {
     "name": "stdout",
     "output_type": "stream",
     "text": [
      "-2.3114119047371596e-06 0.05973542069668277 -0.0055146843586734474 0.05185571510254193\n"
     ]
    }
   ],
   "source": [
    "#calculate the mean and standard deviation of the bias of each effect estimate\n",
    "meanCoding = np.mean(Coding)\n",
    "stdCoding = np.std(Coding)\n",
    "meanPseudo = np.mean(Pseudo)\n",
    "stdPseudo = np.std(Pseudo)\n",
    "#print(meanCoding, stdCoding, meanPseudo, stdPseudo)"
   ]
  },
  {
   "cell_type": "code",
   "execution_count": 9,
   "metadata": {},
   "outputs": [],
   "source": [
    "#Calculate and sort quantiles of biases\n",
    "CodingQuantiles = Coding - meanCoding\n",
    "PseudoQuantiles = Pseudo - meanPseudo\n",
    "CodingQuantiles = np.sort(CodingQuantiles)\n",
    "PseudoQuantiles = np.sort(PseudoQuantiles)"
   ]
  },
  {
   "cell_type": "code",
   "execution_count": 11,
   "metadata": {},
   "outputs": [
    {
     "name": "stdout",
     "output_type": "stream",
     "text": [
      "-0.15725456474268384 0.10295816309517158\n",
      "-0.13289707962004427 0.08047849941998086\n"
     ]
    }
   ],
   "source": [
    "print(meanCoding + CodingQuantiles[24], meanCoding + CodingQuantiles[974])\n",
    "print(meanPseudo + PseudoQuantiles[24], meanPseudo + PseudoQuantiles[974])"
   ]
  },
  {
   "cell_type": "code",
   "execution_count": null,
   "metadata": {},
   "outputs": [],
   "source": []
  }
 ],
 "metadata": {
  "kernelspec": {
   "display_name": "Python 3",
   "language": "python",
   "name": "python3"
  },
  "language_info": {
   "codemirror_mode": {
    "name": "ipython",
    "version": 3
   },
   "file_extension": ".py",
   "mimetype": "text/x-python",
   "name": "python",
   "nbconvert_exporter": "python",
   "pygments_lexer": "ipython3",
   "version": "3.6.4"
  }
 },
 "nbformat": 4,
 "nbformat_minor": 2
}
